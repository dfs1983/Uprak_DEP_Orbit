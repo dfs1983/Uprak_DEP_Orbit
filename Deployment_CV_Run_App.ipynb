{
  "cells": [
    {
      "cell_type": "code",
      "execution_count": null,
      "metadata": {
        "colab": {
          "base_uri": "https://localhost:8080/"
        },
        "id": "sL8UHhL00Os5",
        "outputId": "8261aded-41ae-4980-bb6a-a7b9525a26a3"
      },
      "outputs": [
        {
          "name": "stdout",
          "output_type": "stream",
          "text": [
            "Name: tensorflow\n",
            "Version: 2.12.0\n",
            "Summary: TensorFlow is an open source machine learning framework for everyone.\n",
            "Home-page: https://www.tensorflow.org/\n",
            "Author: Google Inc.\n",
            "Author-email: packages@tensorflow.org\n",
            "License: Apache 2.0\n",
            "Location: /usr/local/lib/python3.10/dist-packages\n",
            "Requires: absl-py, astunparse, flatbuffers, gast, google-pasta, grpcio, h5py, jax, keras, libclang, numpy, opt-einsum, packaging, protobuf, setuptools, six, tensorboard, tensorflow-estimator, tensorflow-io-gcs-filesystem, termcolor, typing-extensions, wrapt\n",
            "Required-by: dopamine-rl\n"
          ]
        }
      ],
      "source": [
        "# pastikan versi tensorflow == 2.12.0\n",
        "# jika tidak sesuai, install versi tensorflow yang sesuai\n",
        "!pip show tensorflow"
      ]
    },
    {
      "cell_type": "code",
      "execution_count": null,
      "metadata": {
        "colab": {
          "base_uri": "https://localhost:8080/"
        },
        "id": "oKOPuoSNqpQ6",
        "outputId": "f2a8c7d5-d5a6-4c4a-bb09-570ebefc4d4b"
      },
      "outputs": [
        {
          "name": "stdout",
          "output_type": "stream",
          "text": [
            "Completed!\n"
          ]
        }
      ],
      "source": [
        "# Melakukan Instalasi Packages yang Dibutuhkan\n",
        "!pip install flask --quiet\n",
        "!pip install flask-ngrok --quiet\n",
        "print(\"Completed!\")"
      ]
    },
    {
      "cell_type": "code",
      "execution_count": null,
      "metadata": {
        "colab": {
          "base_uri": "https://localhost:8080/"
        },
        "id": "Tgh7OgSOsPia",
        "outputId": "2de4f37a-d1ea-48ad-cb2b-a3037d7f181f"
      },
      "outputs": [
        {
          "name": "stdout",
          "output_type": "stream",
          "text": [
            "--2023-05-12 03:16:53--  https://bin.equinox.io/c/4VmDzA7iaHb/ngrok-stable-linux-amd64.tgz\n",
            "Resolving bin.equinox.io (bin.equinox.io)... 18.205.222.128, 54.161.241.46, 54.237.133.81, ...\n",
            "Connecting to bin.equinox.io (bin.equinox.io)|18.205.222.128|:443... connected.\n",
            "HTTP request sent, awaiting response... 200 OK\n",
            "Length: 13856790 (13M) [application/octet-stream]\n",
            "Saving to: ‘ngrok-stable-linux-amd64.tgz’\n",
            "\n",
            "ngrok-stable-linux- 100%[===================>]  13.21M  58.5MB/s    in 0.2s    \n",
            "\n",
            "2023-05-12 03:16:53 (58.5 MB/s) - ‘ngrok-stable-linux-amd64.tgz’ saved [13856790/13856790]\n",
            "\n",
            "ngrok\n"
          ]
        }
      ],
      "source": [
        "# Download \"ngrox\" \n",
        "!wget https://bin.equinox.io/c/4VmDzA7iaHb/ngrok-stable-linux-amd64.tgz\n",
        "!tar -xvf /content/ngrok-stable-linux-amd64.tgz "
      ]
    },
    {
      "cell_type": "code",
      "execution_count": null,
      "metadata": {
        "colab": {
          "base_uri": "https://localhost:8080/"
        },
        "id": "dB467gFqseLS",
        "outputId": "18fe6298-5ef4-4a6e-dcd8-d94f8544a02f"
      },
      "outputs": [
        {
          "name": "stdout",
          "output_type": "stream",
          "text": [
            "Authtoken saved to configuration file: /root/.ngrok2/ngrok.yml\n"
          ]
        }
      ],
      "source": [
        "# Setting Token\n",
        "!./ngrok authtoken <auth token> # diganti dengan token Anda !"
      ]
    },
    {
      "cell_type": "code",
      "execution_count": null,
      "metadata": {
        "colab": {
          "base_uri": "https://localhost:8080/"
        },
        "id": "cWfXavqOsks6",
        "outputId": "a25c7cd5-a7d6-4638-aa61-81a4cb0c298b"
      },
      "outputs": [
        {
          "name": "stdout",
          "output_type": "stream",
          "text": [
            "Cloning into 'Uprak_DEP_Orbit'...\n",
            "remote: Enumerating objects: 99, done.\u001b[K\n",
            "remote: Counting objects: 100% (99/99), done.\u001b[K\n",
            "remote: Compressing objects: 100% (93/93), done.\u001b[K\n",
            "remote: Total 99 (delta 18), reused 72 (delta 3), pack-reused 0\u001b[K\n",
            "Unpacking objects: 100% (99/99), 13.74 MiB | 10.57 MiB/s, done.\n"
          ]
        }
      ],
      "source": [
        "# Clone Repository dari Github\n",
        "!git clone https://github.com/dfs1983/Uprak_DEP_Orbit.git"
      ]
    },
    {
      "cell_type": "code",
      "execution_count": null,
      "metadata": {
        "colab": {
          "base_uri": "https://localhost:8080/"
        },
        "id": "iGZja4JQ0w4h",
        "outputId": "aeefb7cb-dc19-4e7b-aa89-38121158dd4a"
      },
      "outputs": [
        {
          "name": "stdout",
          "output_type": "stream",
          "text": [
            "/content/Uprak_DEP_Orbit\n"
          ]
        }
      ],
      "source": [
        "cd /content/Uprak_DEP_Orbit"
      ]
    },
    {
      "cell_type": "code",
      "execution_count": null,
      "metadata": {
        "colab": {
          "base_uri": "https://localhost:8080/"
        },
        "id": "tjsHsYXjs0x2",
        "outputId": "7385fdc1-007a-47b1-92bf-21f823c7140c"
      },
      "outputs": [
        {
          "name": "stdout",
          "output_type": "stream",
          "text": [
            "2023-05-12 03:16:58.140888: I tensorflow/core/platform/cpu_feature_guard.cc:182] This TensorFlow binary is optimized to use available CPU instructions in performance-critical operations.\n",
            "To enable the following instructions: AVX2 FMA, in other operations, rebuild TensorFlow with the appropriate compiler flags.\n",
            "2023-05-12 03:17:00.128950: W tensorflow/compiler/tf2tensorrt/utils/py_utils.cc:38] TF-TRT Warning: Could not find TensorRT\n",
            " * Serving Flask app 'app'\n",
            " * Debug mode: off\n",
            "\u001b[31m\u001b[1mWARNING: This is a development server. Do not use it in a production deployment. Use a production WSGI server instead.\u001b[0m\n",
            " * Running on http://127.0.0.1:5000\n",
            "\u001b[33mPress CTRL+C to quit\u001b[0m\n",
            " * Running on http://10a8-35-237-175-107.ngrok-free.app\n",
            " * Traffic stats available on http://127.0.0.1:4040\n",
            "127.0.0.1 - - [12/May/2023 03:17:46] \"GET / HTTP/1.1\" 200 -\n",
            "127.0.0.1 - - [12/May/2023 03:17:46] \"\u001b[32mGET /static//css/bootstrap.min.css HTTP/1.1\u001b[0m\" 308 -\n",
            "127.0.0.1 - - [12/May/2023 03:17:46] \"\u001b[32mGET /static//js/jquery_3.6.0.min.js HTTP/1.1\u001b[0m\" 308 -\n",
            "127.0.0.1 - - [12/May/2023 03:17:46] \"\u001b[32mGET /static//css/client_side.css HTTP/1.1\u001b[0m\" 308 -\n",
            "127.0.0.1 - - [12/May/2023 03:17:47] \"GET /static/css/bootstrap.min.css HTTP/1.1\" 200 -\n",
            "127.0.0.1 - - [12/May/2023 03:17:47] \"GET /static/js/jquery_3.6.0.min.js HTTP/1.1\" 200 -\n",
            "127.0.0.1 - - [12/May/2023 03:17:47] \"GET /static/css/client_side.css HTTP/1.1\" 200 -\n",
            "127.0.0.1 - - [12/May/2023 03:17:48] \"\u001b[32mGET /static//js/bootstrap_3.4.1.min.js HTTP/1.1\u001b[0m\" 308 -\n",
            "127.0.0.1 - - [12/May/2023 03:17:48] \"GET /static/js/bootstrap_3.4.1.min.js HTTP/1.1\" 200 -\n",
            "127.0.0.1 - - [12/May/2023 03:17:49] \"\u001b[32mGET /static//images/app-display.JPG HTTP/1.1\u001b[0m\" 308 -\n",
            "127.0.0.1 - - [12/May/2023 03:17:49] \"\u001b[32mGET /static//images/orbit_logo.jpg HTTP/1.1\u001b[0m\" 308 -\n",
            "127.0.0.1 - - [12/May/2023 03:17:49] \"\u001b[32mGET /static//images/ex-upload.JPG HTTP/1.1\u001b[0m\" 308 -\n",
            "127.0.0.1 - - [12/May/2023 03:17:49] \"\u001b[32mGET /static//js/client_side.js HTTP/1.1\u001b[0m\" 308 -\n",
            "127.0.0.1 - - [12/May/2023 03:17:49] \"GET /static/fonts/lato_latin.woff2 HTTP/1.1\" 200 -\n",
            "127.0.0.1 - - [12/May/2023 03:17:49] \"GET /static/fonts/glyphicons-halflings-regular.woff2 HTTP/1.1\" 200 -\n",
            "127.0.0.1 - - [12/May/2023 03:17:49] \"GET /static/images/app-display.JPG HTTP/1.1\" 200 -\n",
            "127.0.0.1 - - [12/May/2023 03:17:49] \"GET /static/images/orbit_logo.jpg HTTP/1.1\" 200 -\n",
            "127.0.0.1 - - [12/May/2023 03:17:49] \"GET /static/js/client_side.js HTTP/1.1\" 200 -\n",
            "127.0.0.1 - - [12/May/2023 03:17:49] \"GET /static/images/ex-upload.JPG HTTP/1.1\" 200 -\n",
            "127.0.0.1 - - [12/May/2023 03:17:51] \"GET /static/favicon.ico HTTP/1.1\" 200 -\n",
            "[2023-05-12 03:18:23,946] ERROR in app: Exception on /api/deteksi [POST]\n",
            "Traceback (most recent call last):\n",
            "  File \"/usr/local/lib/python3.10/dist-packages/flask/app.py\", line 2529, in wsgi_app\n",
            "    response = self.full_dispatch_request()\n",
            "  File \"/usr/local/lib/python3.10/dist-packages/flask/app.py\", line 1825, in full_dispatch_request\n",
            "    rv = self.handle_user_exception(e)\n",
            "  File \"/usr/local/lib/python3.10/dist-packages/flask/app.py\", line 1823, in full_dispatch_request\n",
            "    rv = self.dispatch_request()\n",
            "  File \"/usr/local/lib/python3.10/dist-packages/flask/app.py\", line 1799, in dispatch_request\n",
            "    return self.ensure_sync(self.view_functions[rule.endpoint])(**view_args)\n",
            "  File \"/content/Uprak_DEP_Orbit/app.py\", line 80, in apiDeteksi\n",
            "    y_pred_test_single         = model.predict_proba(test_image_x)\n",
            "AttributeError: 'Sequential' object has no attribute 'predict_proba'\n",
            "127.0.0.1 - - [12/May/2023 03:18:23] \"\u001b[35m\u001b[1mPOST /api/deteksi HTTP/1.1\u001b[0m\" 500 -\n",
            "[2023-05-12 03:18:25,960] ERROR in app: Exception on /api/deteksi [POST]\n",
            "Traceback (most recent call last):\n",
            "  File \"/usr/local/lib/python3.10/dist-packages/flask/app.py\", line 2529, in wsgi_app\n",
            "    response = self.full_dispatch_request()\n",
            "  File \"/usr/local/lib/python3.10/dist-packages/flask/app.py\", line 1825, in full_dispatch_request\n",
            "    rv = self.handle_user_exception(e)\n",
            "  File \"/usr/local/lib/python3.10/dist-packages/flask/app.py\", line 1823, in full_dispatch_request\n",
            "    rv = self.dispatch_request()\n",
            "  File \"/usr/local/lib/python3.10/dist-packages/flask/app.py\", line 1799, in dispatch_request\n",
            "    return self.ensure_sync(self.view_functions[rule.endpoint])(**view_args)\n",
            "  File \"/content/Uprak_DEP_Orbit/app.py\", line 80, in apiDeteksi\n",
            "    y_pred_test_single         = model.predict_proba(test_image_x)\n",
            "AttributeError: 'Sequential' object has no attribute 'predict_proba'\n",
            "127.0.0.1 - - [12/May/2023 03:18:25] \"\u001b[35m\u001b[1mPOST /api/deteksi HTTP/1.1\u001b[0m\" 500 -\n",
            "[2023-05-12 03:18:26,670] ERROR in app: Exception on /api/deteksi [POST]\n",
            "Traceback (most recent call last):\n",
            "  File \"/usr/local/lib/python3.10/dist-packages/flask/app.py\", line 2529, in wsgi_app\n",
            "    response = self.full_dispatch_request()\n",
            "  File \"/usr/local/lib/python3.10/dist-packages/flask/app.py\", line 1825, in full_dispatch_request\n",
            "    rv = self.handle_user_exception(e)\n",
            "  File \"/usr/local/lib/python3.10/dist-packages/flask/app.py\", line 1823, in full_dispatch_request\n",
            "    rv = self.dispatch_request()\n",
            "  File \"/usr/local/lib/python3.10/dist-packages/flask/app.py\", line 1799, in dispatch_request\n",
            "    return self.ensure_sync(self.view_functions[rule.endpoint])(**view_args)\n",
            "  File \"/content/Uprak_DEP_Orbit/app.py\", line 80, in apiDeteksi\n",
            "    y_pred_test_single         = model.predict_proba(test_image_x)\n",
            "AttributeError: 'Sequential' object has no attribute 'predict_proba'\n",
            "127.0.0.1 - - [12/May/2023 03:18:26] \"\u001b[35m\u001b[1mPOST /api/deteksi HTTP/1.1\u001b[0m\" 500 -\n",
            "[2023-05-12 03:18:27,220] ERROR in app: Exception on /api/deteksi [POST]\n",
            "Traceback (most recent call last):\n",
            "  File \"/usr/local/lib/python3.10/dist-packages/flask/app.py\", line 2529, in wsgi_app\n",
            "    response = self.full_dispatch_request()\n",
            "  File \"/usr/local/lib/python3.10/dist-packages/flask/app.py\", line 1825, in full_dispatch_request\n",
            "    rv = self.handle_user_exception(e)\n",
            "  File \"/usr/local/lib/python3.10/dist-packages/flask/app.py\", line 1823, in full_dispatch_request\n",
            "    rv = self.dispatch_request()\n",
            "  File \"/usr/local/lib/python3.10/dist-packages/flask/app.py\", line 1799, in dispatch_request\n",
            "    return self.ensure_sync(self.view_functions[rule.endpoint])(**view_args)\n",
            "  File \"/content/Uprak_DEP_Orbit/app.py\", line 80, in apiDeteksi\n",
            "    y_pred_test_single         = model.predict_proba(test_image_x)\n",
            "AttributeError: 'Sequential' object has no attribute 'predict_proba'\n",
            "127.0.0.1 - - [12/May/2023 03:18:27] \"\u001b[35m\u001b[1mPOST /api/deteksi HTTP/1.1\u001b[0m\" 500 -\n",
            "[2023-05-12 03:18:27,811] ERROR in app: Exception on /api/deteksi [POST]\n",
            "Traceback (most recent call last):\n",
            "  File \"/usr/local/lib/python3.10/dist-packages/flask/app.py\", line 2529, in wsgi_app\n",
            "    response = self.full_dispatch_request()\n",
            "  File \"/usr/local/lib/python3.10/dist-packages/flask/app.py\", line 1825, in full_dispatch_request\n",
            "    rv = self.handle_user_exception(e)\n",
            "  File \"/usr/local/lib/python3.10/dist-packages/flask/app.py\", line 1823, in full_dispatch_request\n",
            "    rv = self.dispatch_request()\n",
            "  File \"/usr/local/lib/python3.10/dist-packages/flask/app.py\", line 1799, in dispatch_request\n",
            "    return self.ensure_sync(self.view_functions[rule.endpoint])(**view_args)\n",
            "  File \"/content/Uprak_DEP_Orbit/app.py\", line 80, in apiDeteksi\n",
            "    y_pred_test_single         = model.predict_proba(test_image_x)\n",
            "AttributeError: 'Sequential' object has no attribute 'predict_proba'\n",
            "127.0.0.1 - - [12/May/2023 03:18:27] \"\u001b[35m\u001b[1mPOST /api/deteksi HTTP/1.1\u001b[0m\" 500 -\n",
            "[2023-05-12 03:18:27,834] ERROR in app: Exception on /api/deteksi [POST]\n",
            "Traceback (most recent call last):\n",
            "  File \"/usr/local/lib/python3.10/dist-packages/flask/app.py\", line 2529, in wsgi_app\n",
            "    response = self.full_dispatch_request()\n",
            "  File \"/usr/local/lib/python3.10/dist-packages/flask/app.py\", line 1825, in full_dispatch_request\n",
            "    rv = self.handle_user_exception(e)\n",
            "  File \"/usr/local/lib/python3.10/dist-packages/flask/app.py\", line 1823, in full_dispatch_request\n",
            "    rv = self.dispatch_request()\n",
            "  File \"/usr/local/lib/python3.10/dist-packages/flask/app.py\", line 1799, in dispatch_request\n",
            "    return self.ensure_sync(self.view_functions[rule.endpoint])(**view_args)\n",
            "  File \"/content/Uprak_DEP_Orbit/app.py\", line 80, in apiDeteksi\n",
            "    y_pred_test_single         = model.predict_proba(test_image_x)\n",
            "AttributeError: 'Sequential' object has no attribute 'predict_proba'\n",
            "127.0.0.1 - - [12/May/2023 03:18:27] \"\u001b[35m\u001b[1mPOST /api/deteksi HTTP/1.1\u001b[0m\" 500 -\n",
            "[2023-05-12 03:18:44,944] ERROR in app: Exception on /api/deteksi [POST]\n",
            "Traceback (most recent call last):\n",
            "  File \"/usr/local/lib/python3.10/dist-packages/flask/app.py\", line 2529, in wsgi_app\n",
            "    response = self.full_dispatch_request()\n",
            "  File \"/usr/local/lib/python3.10/dist-packages/flask/app.py\", line 1825, in full_dispatch_request\n",
            "    rv = self.handle_user_exception(e)\n",
            "  File \"/usr/local/lib/python3.10/dist-packages/flask/app.py\", line 1823, in full_dispatch_request\n",
            "    rv = self.dispatch_request()\n",
            "  File \"/usr/local/lib/python3.10/dist-packages/flask/app.py\", line 1799, in dispatch_request\n",
            "    return self.ensure_sync(self.view_functions[rule.endpoint])(**view_args)\n",
            "  File \"/content/Uprak_DEP_Orbit/app.py\", line 80, in apiDeteksi\n",
            "    y_pred_test_single         = model.predict_proba(test_image_x)\n",
            "AttributeError: 'Sequential' object has no attribute 'predict_proba'\n",
            "127.0.0.1 - - [12/May/2023 03:18:44] \"\u001b[35m\u001b[1mPOST /api/deteksi HTTP/1.1\u001b[0m\" 500 -\n",
            "[2023-05-12 03:18:45,671] ERROR in app: Exception on /api/deteksi [POST]\n",
            "Traceback (most recent call last):\n",
            "  File \"/usr/local/lib/python3.10/dist-packages/flask/app.py\", line 2529, in wsgi_app\n",
            "    response = self.full_dispatch_request()\n",
            "  File \"/usr/local/lib/python3.10/dist-packages/flask/app.py\", line 1825, in full_dispatch_request\n",
            "    rv = self.handle_user_exception(e)\n",
            "  File \"/usr/local/lib/python3.10/dist-packages/flask/app.py\", line 1823, in full_dispatch_request\n",
            "    rv = self.dispatch_request()\n",
            "  File \"/usr/local/lib/python3.10/dist-packages/flask/app.py\", line 1799, in dispatch_request\n",
            "    return self.ensure_sync(self.view_functions[rule.endpoint])(**view_args)\n",
            "  File \"/content/Uprak_DEP_Orbit/app.py\", line 80, in apiDeteksi\n",
            "    y_pred_test_single         = model.predict_proba(test_image_x)\n",
            "AttributeError: 'Sequential' object has no attribute 'predict_proba'\n",
            "127.0.0.1 - - [12/May/2023 03:18:45] \"\u001b[35m\u001b[1mPOST /api/deteksi HTTP/1.1\u001b[0m\" 500 -\n",
            "[2023-05-12 03:18:45,691] ERROR in app: Exception on /api/deteksi [POST]\n",
            "Traceback (most recent call last):\n",
            "  File \"/usr/local/lib/python3.10/dist-packages/flask/app.py\", line 2529, in wsgi_app\n",
            "    response = self.full_dispatch_request()\n",
            "  File \"/usr/local/lib/python3.10/dist-packages/flask/app.py\", line 1825, in full_dispatch_request\n",
            "    rv = self.handle_user_exception(e)\n",
            "  File \"/usr/local/lib/python3.10/dist-packages/flask/app.py\", line 1823, in full_dispatch_request\n",
            "    rv = self.dispatch_request()\n",
            "  File \"/usr/local/lib/python3.10/dist-packages/flask/app.py\", line 1799, in dispatch_request\n",
            "    return self.ensure_sync(self.view_functions[rule.endpoint])(**view_args)\n",
            "  File \"/content/Uprak_DEP_Orbit/app.py\", line 80, in apiDeteksi\n",
            "    y_pred_test_single         = model.predict_proba(test_image_x)\n",
            "AttributeError: 'Sequential' object has no attribute 'predict_proba'\n",
            "127.0.0.1 - - [12/May/2023 03:18:45] \"\u001b[35m\u001b[1mPOST /api/deteksi HTTP/1.1\u001b[0m\" 500 -\n",
            "[2023-05-12 03:18:46,055] ERROR in app: Exception on /api/deteksi [POST]\n",
            "Traceback (most recent call last):\n",
            "  File \"/usr/local/lib/python3.10/dist-packages/flask/app.py\", line 2529, in wsgi_app\n",
            "    response = self.full_dispatch_request()\n",
            "  File \"/usr/local/lib/python3.10/dist-packages/flask/app.py\", line 1825, in full_dispatch_request\n",
            "    rv = self.handle_user_exception(e)\n",
            "  File \"/usr/local/lib/python3.10/dist-packages/flask/app.py\", line 1823, in full_dispatch_request\n",
            "    rv = self.dispatch_request()\n",
            "  File \"/usr/local/lib/python3.10/dist-packages/flask/app.py\", line 1799, in dispatch_request\n",
            "    return self.ensure_sync(self.view_functions[rule.endpoint])(**view_args)\n",
            "  File \"/content/Uprak_DEP_Orbit/app.py\", line 80, in apiDeteksi\n",
            "    y_pred_test_single         = model.predict_proba(test_image_x)\n",
            "AttributeError: 'Sequential' object has no attribute 'predict_proba'\n",
            "127.0.0.1 - - [12/May/2023 03:18:46] \"\u001b[35m\u001b[1mPOST /api/deteksi HTTP/1.1\u001b[0m\" 500 -\n",
            "127.0.0.1 - - [12/May/2023 03:42:17] \"\u001b[36mGET /static/css/client_side.css HTTP/1.1\u001b[0m\" 304 -\n",
            "127.0.0.1 - - [12/May/2023 03:42:17] \"\u001b[36mGET /static/css/bootstrap.min.css HTTP/1.1\u001b[0m\" 304 -\n",
            "127.0.0.1 - - [12/May/2023 03:42:18] \"\u001b[33mGET /static/css/bootstrap.min.css.map HTTP/1.1\u001b[0m\" 404 -\n"
          ]
        }
      ],
      "source": [
        "# Jalankan Aplikasi (Kode Python \"app.py\")\n",
        "!python3 app.py"
      ]
    }
  ],
  "metadata": {
    "colab": {
      "provenance": []
    },
    "kernelspec": {
      "display_name": "Python 3",
      "name": "python3"
    },
    "language_info": {
      "name": "python"
    }
  },
  "nbformat": 4,
  "nbformat_minor": 0
}
